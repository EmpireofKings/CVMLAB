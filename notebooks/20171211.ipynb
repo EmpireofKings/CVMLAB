{
 "cells": [
  {
   "cell_type": "markdown",
   "metadata": {},
   "source": [
    "## $ Ax=B $ をPythonで解く方法\n",
    "キーワード: python, numpy, jupyter notebook, anaconda\n",
    "\n",
    "* PythonはWindowsでもmacOSでも無料で使える\n",
    "* iOSだとPythonista 3が有料だが使える\n",
    "\n",
    "### 何が便利か\n",
    "\n",
    "式を立てた時点で検算が出来る\n",
    "\n",
    "### 注意点\n",
    "\n",
    "あくまでも答えを求めるものであって過程までは示してくれない。"
   ]
  },
  {
   "cell_type": "markdown",
   "metadata": {},
   "source": [
    "$$\n",
    "\\left[\\begin{array}{cc}\n",
    "10+20j & 20j \\\\\n",
    "20j & -10j\n",
    "\\end{array} \\right] \\left[ \\begin{array}{c}\n",
    "x_1 \\\\\n",
    "x_2\n",
    "\\end{array} \\right] = \\left[ \\begin{array}{c}\n",
    "100\\\\\n",
    "100j\n",
    "\\end{array} \\right]\n",
    "$$\n",
    "を$Ax=B$として考え，以下のようにA, Bを作る。"
   ]
  },
  {
   "cell_type": "code",
   "execution_count": null,
   "metadata": {},
   "outputs": [],
   "source": [
    "import numpy as np\n",
    "A = [[10+20j, 20j], [20j, -10j]]\n",
    "B = [100, 100j]"
   ]
  },
  {
   "cell_type": "markdown",
   "metadata": {},
   "source": [
    "### 行列式\n",
    "* 行列式はnp.linalg.det(A)"
   ]
  },
  {
   "cell_type": "code",
   "execution_count": 6,
   "metadata": {},
   "outputs": [
    {
     "name": "stdout",
     "output_type": "stream",
     "text": [
      "(600-100j)\n"
     ]
    }
   ],
   "source": [
    "delta = np.linalg.det(A)\n",
    "print(delta)"
   ]
  },
  {
   "cell_type": "markdown",
   "metadata": {},
   "source": [
    "### 解くときはsolve(A, B)"
   ]
  },
  {
   "cell_type": "code",
   "execution_count": 7,
   "metadata": {},
   "outputs": [
    {
     "name": "stdout",
     "output_type": "stream",
     "text": [
      "[ 3.51351351-1.08108108j -2.97297297-2.16216216j]\n"
     ]
    }
   ],
   "source": [
    "x = np.linalg.solve(A, B)\n",
    "print(x)"
   ]
  },
  {
   "cell_type": "markdown",
   "metadata": {},
   "source": [
    "### 極形式へ\n",
    "* 直接の変換はできないので大きさと偏角を個別に求める\n",
    "    * 大きさ: np.abs\n",
    "    * 偏角: np.angle\n",
    "* 角度単位はradianなのでdegreeとradianの変換が必要\n",
    "    * degreeからradianへ: np.radians\n",
    "    * radianからdegreeへ: np.degrees"
   ]
  },
  {
   "cell_type": "markdown",
   "metadata": {},
   "source": [
    "### 大きさ"
   ]
  },
  {
   "cell_type": "code",
   "execution_count": 8,
   "metadata": {},
   "outputs": [
    {
     "name": "stdout",
     "output_type": "stream",
     "text": [
      "[ 3.67607311  3.67607311]\n"
     ]
    }
   ],
   "source": [
    "print(np.abs(x))"
   ]
  },
  {
   "cell_type": "markdown",
   "metadata": {},
   "source": [
    "### 偏角"
   ]
  },
  {
   "cell_type": "code",
   "execution_count": 9,
   "metadata": {},
   "outputs": [
    {
     "name": "stdout",
     "output_type": "stream",
     "text": [
      "[ -17.10272897 -143.97262661]\n"
     ]
    }
   ],
   "source": [
    "print(np.degrees(np.angle(x)))"
   ]
  },
  {
   "cell_type": "markdown",
   "metadata": {},
   "source": [
    "※この手の線形代数については演習室PCで使えるソフトとしてはMATLABやMathematicaがある"
   ]
  }
 ],
 "metadata": {
  "kernelspec": {
   "display_name": "Python 3",
   "language": "python",
   "name": "python3"
  },
  "language_info": {
   "codemirror_mode": {
    "name": "ipython",
    "version": 3
   },
   "file_extension": ".py",
   "mimetype": "text/x-python",
   "name": "python",
   "nbconvert_exporter": "python",
   "pygments_lexer": "ipython3",
   "version": "3.6.2"
  }
 },
 "nbformat": 4,
 "nbformat_minor": 2
}
