{
 "cells": [
  {
   "cell_type": "markdown",
   "metadata": {
    "slideshow": {
     "slide_type": "slide"
    }
   },
   "source": [
    "# Python入門"
   ]
  },
  {
   "cell_type": "markdown",
   "metadata": {
    "slideshow": {
     "slide_type": "slide"
    }
   },
   "source": [
    "1. なぜPythonか\n",
    "    * 誰が書いても同じようなソースになる(読みやすい)\n",
    "    * インタプリタ型なので1行ずつ実行できる(コンパイラ不要)\n",
    "    "
   ]
  },
  {
   "cell_type": "markdown",
   "metadata": {
    "slideshow": {
     "slide_type": "subslide"
    }
   },
   "source": [
    "1. なぜPythonか\n",
    "    * パッケージが豊富\n",
    "        * 画像処理，数値演算，描画，カメラ操作等々\n",
    "        * ゼロから書かなければいけない作業が少ない\n",
    "    * Windows, Mac, Linuxで動く\n",
    "    * 環境構築が案外楽\n",
    "    * 基本的に無料で何とかなる\n",
    "    "
   ]
  },
  {
   "cell_type": "markdown",
   "metadata": {
    "slideshow": {
     "slide_type": "slide"
    }
   },
   "source": [
    "1. Pythonのディストリビューション\n",
    "    * Python=プログラムを解釈するインタプリタと基本パッケージのみ\n",
    "        * 便利なパッケージは後から導入する必要がある\n",
    "    * パッケージを纏めて配布する形態\n",
    "        * 企業向けは有料で学術，個人使用は無料の場合が多い\n",
    "        "
   ]
  },
  {
   "cell_type": "markdown",
   "metadata": {
    "slideshow": {
     "slide_type": "subslide"
    }
   },
   "source": [
    "1. Pythonのディストリビューション\n",
    "    * メジャーなディストリビューション\n",
    "        * [Anaconda(Continuum Analytics)](https://www.continuum.io/why-anaconda)\n",
    "        * [Canopy(Enthought Scientific Computing Solutions)](https://www.enthought.com/)\n",
    "        * [Python(x,y)](http://python-xy.github.io/)\n",
    "    * 研究室ではAnacondaを採用\n",
    "    "
   ]
  },
  {
   "cell_type": "markdown",
   "metadata": {
    "slideshow": {
     "slide_type": "slide"
    }
   },
   "source": [
    "1. Anacondaの理由\n",
    "    * パッケージ管理が楽\n",
    "        * 公式パッケージ管理コマンドconda\n",
    "        * 非公式パッケージ管理コマンドanaconda\n",
    "    * 更新が速い\n",
    "    * 変なクセが無い\n",
    "    * 管理者権限が不要"
   ]
  },
  {
   "cell_type": "markdown",
   "metadata": {
    "slideshow": {
     "slide_type": "slide"
    }
   },
   "source": [
    "1. Anacondaの導入と簡単な使い方\n",
    "    * [門馬のGithub wiki](https://github.com/eiichiromomma/CVMLAB/wiki/Python-Anaconda)\n",
    "    * 研究室のPC(ゼミ用アカウントB3)には導入済み\n",
    "    "
   ]
  },
  {
   "cell_type": "markdown",
   "metadata": {
    "slideshow": {
     "slide_type": "subslide"
    }
   },
   "source": [
    "1. Anacondaの導入と簡単な使い方\n",
    "    * 使い方色々(スタートメニューのAnaconda2(64bit))\n",
    "        * IPython\n",
    "        * Jupyter QTConsole\n",
    "        * Jupyter Notebook\n",
    "        * Anaconda Prompt"
   ]
  },
  {
   "cell_type": "markdown",
   "metadata": {
    "slideshow": {
     "slide_type": "subslide"
    }
   },
   "source": [
    "1. Anacondaの導入と簡単な使い方\n",
    "    * とりあえずIPython\n",
    "        1. 1+1と入力してEnter\n",
    "        2. print(\"Hello world\")と入力してEnter\n",
    "    * IPythonでは1行ごとに式が評価される"
   ]
  },
  {
   "cell_type": "code",
   "execution_count": 4,
   "metadata": {
    "collapsed": false
   },
   "outputs": [
    {
     "data": {
      "text/plain": [
       "2"
      ]
     },
     "execution_count": 4,
     "metadata": {},
     "output_type": "execute_result"
    }
   ],
   "source": [
    "1+1"
   ]
  },
  {
   "cell_type": "code",
   "execution_count": 5,
   "metadata": {
    "collapsed": false
   },
   "outputs": [
    {
     "name": "stdout",
     "output_type": "stream",
     "text": [
      "Hello world\n"
     ]
    }
   ],
   "source": [
    "print(\"Hello world\")"
   ]
  },
  {
   "cell_type": "markdown",
   "metadata": {
    "slideshow": {
     "slide_type": "subslide"
    }
   },
   "source": [
    "1. Anacondaの導入と簡単な使い方\n",
    "    * とりあえずJupyter Notebook\n",
    "        1. WebサーバとWebブラウザが起動してファイル一覧が現われる\n",
    "        1. 右上のNewからPython2を選択\n",
    "        1. セルが選択されている状態でEnterを押すとセルに入力できる(ESCで脱出)\n",
    "        1. print(1+1)と入力してCtrl+Enter\n",
    "        1. 再度セルに入って print(\"Hello world\")と入力してCtrl+Enter\n"
   ]
  },
  {
   "cell_type": "code",
   "execution_count": 8,
   "metadata": {
    "collapsed": false,
    "slideshow": {
     "slide_type": "subslide"
    }
   },
   "outputs": [
    {
     "name": "stdout",
     "output_type": "stream",
     "text": [
      "2\n",
      "Hello world\n"
     ]
    }
   ],
   "source": [
    "print(1+1)\n",
    "print(\"Hello world\")"
   ]
  },
  {
   "cell_type": "markdown",
   "metadata": {
    "slideshow": {
     "slide_type": "slide"
    }
   },
   "source": [
    "1. Jupyter Notebookで書いたプログラムの実行方法\n",
    "    * Ctrl+Enterだと実行してそのセルを選択\n",
    "    * Shift+Enterだと実行して次のセルを選択"
   ]
  },
  {
   "cell_type": "markdown",
   "metadata": {
    "collapsed": true,
    "slideshow": {
     "slide_type": "subslide"
    }
   },
   "source": [
    "1. Jupyter Notebookの利点\n",
    "    * Markdown記法が使える\n",
    "        * [Basic writing and formatting syntax](https://help.github.com/articles/getting-started-with-writing-and-formatting-on-github/)を参照 (Help-Markdownで開く)\n",
    "        * セルを選択した状態でmでMarkdownセルになる(yでPythonのコード入力セル)\n",
    "    * 実験ノート代わりに説明+プログラム+説明+プログラム....と記入できる\n",
    "    * 問題が起きてもNotebookは生きてるケースが多い(隠しフォルダにCheckpointとして自動バックアップされる)\n",
    "    "
   ]
  },
  {
   "cell_type": "markdown",
   "metadata": {
    "slideshow": {
     "slide_type": "slide"
    }
   },
   "source": [
    "1. Anaconda Prompt\n",
    "    * パッケージの管理等のコマンド入力やjupyter notebookの起動\n",
    "    * 中身はWindows標準のコマンドプロンプトと同じ\n",
    "    "
   ]
  },
  {
   "cell_type": "markdown",
   "metadata": {},
   "source": [
    "1. Aanaconda Promptの使い方\n",
    "* 用語\n",
    "    * ディレクトリ=フォルダ\n",
    "    * カレントディレクトリ=今いる場所\n",
    "    * ￥または\\=ディレクトリの階層構造の区切り\n",
    "    * ..=一つ上のディレクトリ\n",
    " "
   ]
  },
  {
   "cell_type": "markdown",
   "metadata": {
    "slideshow": {
     "slide_type": "subslide"
    }
   },
   "source": [
    "   \n",
    "* 主なコマンド\n",
    "\n",
    "|Windows|Anaconda|コマンド|用途|\n",
    "|---|---|---|---|\n",
    "|○| |dir|今いるディレクトリの中のファイル一覧表示|\n",
    "|○| |cd|ディレクトリの移動(change directory)|\n",
    "|○| |exit|コマンドプロンプトの終了|\n",
    "||○|conda| パッケージの検索、インストール、アンインストール、アップデート等|\n",
    "||○|anaconda|非公式パッケージの検索、情報表示等|"
   ]
  },
  {
   "cell_type": "markdown",
   "metadata": {
    "slideshow": {
     "slide_type": "subslide"
    }
   },
   "source": [
    "1. conda, anacondaのアップデート\n",
    "```\n",
    "conda update conda\n",
    "conda update anaconda\n",
    "```\n",
    "1. パッケージのインストール(例: accelerateとnumbapro)\n",
    "```\n",
    "conda search accelerate #検索\n",
    "conda install numbapro #インストール\n",
    "conda install accelerate #インストール\n",
    "conda install numbapro accelerate #2つ並べても良い\n",
    "```\n",
    "アップデート、ダウングレード、インストールされるパッケージの一覧が出てくるので確認してy[Enter]\n",
    "1. パッケージのアップデート\n",
    "conda update [パッケージ名]とする。\n",
    "```\n",
    "conda update accelerate\n",
    "```\n",
    "1. 全部アップデート(時間がかかるのでやらない方が良い)\n",
    "```\n",
    "conda update --all\n",
    "```\n"
   ]
  },
  {
   "cell_type": "markdown",
   "metadata": {},
   "source": [
    "1. 非公式パッケージのインストール\n",
    "anaconda search [パッケージ名]とする。例としてOpenCV3を入れる。\n",
    "```\n",
    "anaconda search onepcv3\n",
    "```\n",
    "こんどは [作った人]/[パッケージ名]の一覧が出てくるので、Version, Platformsを確認して anaconda show [作った人]/[パッケージ名] と打つ。\n",
    "```\n",
    "anaconda show menpo/opencv3\n",
    "```\n",
    "To install this package with conda run:の下にあるコマンドを打ち込めばインストール完了。\n",
    "```\n",
    "conda install --channel https://conda.anaconda.org/menpo opencv3\n",
    "```\n"
   ]
  }
 ],
 "metadata": {
  "celltoolbar": "Slideshow",
  "kernelspec": {
   "display_name": "Python 2",
   "language": "python",
   "name": "python2"
  },
  "language_info": {
   "codemirror_mode": {
    "name": "ipython",
    "version": 2
   },
   "file_extension": ".py",
   "mimetype": "text/x-python",
   "name": "python",
   "nbconvert_exporter": "python",
   "pygments_lexer": "ipython2",
   "version": "2.7.11"
  }
 },
 "nbformat": 4,
 "nbformat_minor": 0
}
